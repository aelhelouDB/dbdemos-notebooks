{
 "cells": [
  {
   "cell_type": "markdown",
   "metadata": {
    "application/vnd.databricks.v1+cell": {
     "cellMetadata": {},
     "inputWidgets": {},
     "nuid": "969f44a8-8ba4-4bfe-9855-9b11850f1547",
     "showTitle": false,
     "tableResultSettingsMap": {},
     "title": ""
    }
   },
   "source": [
    "\n",
    "# 🧠 From Predictive to Prescriptive Churn Reduction with Gen AI\n",
    "\n",
    "---\n",
    "\n",
    "Retailers face increasing customer churn, rising acquisition costs, and fierce competition, making customer retention more critical than ever.\n",
    "Despite investments in loyalty programs and CRM systems, many struggle with fragmented customer data, ineffective engagement strategies, and the inability to act in real-time—resulting in missed opportunities and declining customer lifetime value.\n",
    "\n",
    "<div style=\"background: #f7f7f7; border-left: 5px solid #ff5f46; padding: 20px; margin: 20px 0; font-size: 18px;\">\n",
    "\"A recent review of the State of Customer Churn revealed that the <b>average churn rate</b> for the entire retail sector is <b>6.58%</b>, far higher than the <b>ideal rate of 3-5%</b>.\"[^3]\n",
    "</div>\n",
    "\n",
    "<div style=\"background: #f7f7f7; border-left: 5px solid green; padding: 20px; margin: 20px 0; font-size: 18px;\">\n",
    "\"With <b>prescriptive analytics</b> in place, decision makers can quickly extract <b>actionable knowledge</b> from the available data and define <b>effective actions</b> for the future.\"[^2]\n",
    "</div>\n",
    "\n",
    "<img src=\"https://raw.githubusercontent.com/databricks-demos/dbdemos-resources/refs/heads/main/images/liza.png\" style=\"width: 100px; vertical-align: middle; margin-right: 10px; float: left;\" />\n",
    "<br>\n",
    "Liza, a Generative AI Engineer, is going to utilize Databricks AI in order to create a prescriptive system for her company to reduce customer churn. She will use the full power of her company's data platform to create tailored advertising to her at-risk customers to encourage new purchases.\n",
    "\n",
    "[^1]: https://www.qualtrics.com/experience-management/customer/customer-churn/\n",
    "\n",
    "[^2]: https://voziq.ai/featured/prescriptive-analytics-for-churn-reduction/\n",
    "\n",
    "[^3]: https://www.custify.com/blog/customer-churn-guide/\n",
    "\n",
    "[^4]: https://www.infobip.com/blog/how-generative-ai-can-help-reduce-churn\n",
    "\n",
    "[^5]: https://www.salesforce.com/sales/analytics/customer-churn/\n",
    "\n",
    "[^6]: https://graphite-note.com/customer-churn-prevention-predictive-analytics/\n",
    "\n",
    "[^7]: https://churnzero.com/blog/customer-success-statistics/\n",
    "\n",
    "[^8]: https://www.b2brocket.ai/blog-posts/ai-powered-churn-prediction\n",
    "\n"
   ]
  },
  {
   "cell_type": "markdown",
   "metadata": {
    "application/vnd.databricks.v1+cell": {
     "cellMetadata": {},
     "inputWidgets": {},
     "nuid": "34a806bb-6135-4268-83ba-74fd366eec9e",
     "showTitle": false,
     "tableResultSettingsMap": {},
     "title": ""
    }
   },
   "source": [
    "## The Demo: Generative AI for Smarter Churn Reduction  \n",
    "<!-- \n",
    "<img src=\"https://raw.githubusercontent.com/databricks-demos/dbdemos-resources/refs/heads/main/images/retail/lakehouse-churn/lakehouse-retail-c360-agent-functions.png\" \n",
    "     style=\"float: right; margin-top: 10px; width: 700px; display: block;\" /> -->\n",
    "\n",
    "Databricks Generative AI is redefining churn management by allowing organizations to shift from reactive retention to proactive customer engagement. Unlike traditional predictive models that simply flag at-risk customers, Databricks AI Agent Systems allow the use of those predictive models in a high-value business context.  \n",
    "\n",
    "In this demo, we show a simple use-case for Databricks to help reduce customer churn. We will create an AI agent using the following functions, defined in the subsequent cells:\n",
    "\n",
    "\n",
    "1. **Customer Churn Prediction**: We will create a function that will allow our GenAI agent to determine if a customer is at risk of churn, based on the AutoML model we defined in **section 4** of this demo.\n",
    "2. **Customer Order Lookup**: Then, our agent needs to be able to look up that at-risk-of-churn customer's most recent orders and also customer's demographic information in order to create personalized outreach.\n",
    "3. **Personalized Customer Outreach**: Finally, our agent will use this outreach function to piece together a personalized ad outreach based on the customer's demographics and purchase history to keep them engaged and a buying customer!\n",
    "\n",
    "By leveraging Generative AI, retailers can move beyond predicting churn to actively **preventing it—turning potential losses into fruitful customer relationships**.   \n",
    "\n",
    "\n",
    "\n",
    "<!-- Architecture doc: https://docs.google.com/presentation/d/1YzY7jj4GVXaEUjVPFPI74qgy00mVO6rWXHwv6iz0-lM/edit#slide=id.gf7b9ec9ce5_0_1087 -->\n"
   ]
  },
  {
   "cell_type": "code",
   "execution_count": 0,
   "metadata": {
    "application/vnd.databricks.v1+cell": {
     "cellMetadata": {
      "byteLimit": 2048000,
      "rowLimit": 10000
     },
     "inputWidgets": {},
     "nuid": "a0c7e6e6-4407-4db0-86d2-4fc9e02a8426",
     "showTitle": false,
     "tableResultSettingsMap": {},
     "title": ""
    }
   },
   "outputs": [],
   "source": [
    "# CONFIGURATION CELL, installing necessary packages for this demo.\n",
    "%pip install mlflow==2.20.1 databricks-vectorsearch==0.40 databricks-feature-engineering==0.8.0 databricks-sdk==0.40.0\n",
    "dbutils.library.restartPython()"
   ]
  },
  {
   "cell_type": "code",
   "execution_count": 0,
   "metadata": {
    "application/vnd.databricks.v1+cell": {
     "cellMetadata": {
      "byteLimit": 2048000,
      "rowLimit": 10000
     },
     "inputWidgets": {},
     "nuid": "511c267d-7102-4c9c-b4ea-b03c818bdc06",
     "showTitle": false,
     "tableResultSettingsMap": {},
     "title": ""
    }
   },
   "outputs": [],
   "source": [
    "%run ../_resources/00-setup $reset_all_data=false"
   ]
  },
  {
   "cell_type": "markdown",
   "metadata": {
    "application/vnd.databricks.v1+cell": {
     "cellMetadata": {},
     "inputWidgets": {},
     "nuid": "d13ef406-ca66-4f63-a4b6-6f92cd294bfe",
     "showTitle": false,
     "tableResultSettingsMap": {},
     "title": ""
    }
   },
   "source": [
    "## Function 1: Customer Churn Prediction\n",
    "\n"
   ]
  },
  {
   "cell_type": "code",
   "execution_count": 0,
   "metadata": {
    "application/vnd.databricks.v1+cell": {
     "cellMetadata": {
      "byteLimit": 2048000,
      "rowLimit": 10000
     },
     "inputWidgets": {},
     "nuid": "0e93a4c4-3c48-4e19-aa18-48bebdcac43a",
     "showTitle": false,
     "tableResultSettingsMap": {},
     "title": ""
    }
   },
   "outputs": [],
   "source": [
    "spark.sql(\"DROP FUNCTION IF EXISTS churn_predictor\")\n",
    "\n",
    "spark.sql(f\"\"\"\n",
    "          CREATE OR REPLACE FUNCTION churn_predictor(id STRING)\n",
    "RETURNS STRING\n",
    "LANGUAGE SQL\n",
    "COMMENT 'This function determines whether a customer is at risk of churning. The possible value are AT RISK or NOT AT RISK of churning. Use this function when a User ID is given.'\n",
    "RETURN\n",
    "(\n",
    "    SELECT CASE \n",
    "             WHEN ai_query(\n",
    "                    'dbdemos_customer_churn_endpoint', \n",
    "                    named_struct(\n",
    "                        'user_id', user_id,\n",
    "                        'canal', MAX(canal),\n",
    "                        'country', MAX(country),\n",
    "                        'gender', MAX(gender),\n",
    "                        'age_group', MAX(age_group),\n",
    "                        'order_count', MAX(order_count),\n",
    "                        'total_amount', MAX(total_amount),\n",
    "                        'total_item', MAX(total_item),\n",
    "                        'last_transaction', MAX(last_transaction),\n",
    "                        'platform', MAX(platform),\n",
    "                        'event_count', MAX(event_count),\n",
    "                        'session_count', MAX(session_count),\n",
    "                        'days_since_creation', MAX(days_since_creation),\n",
    "                        'days_since_last_activity', MAX(days_since_last_activity),\n",
    "                        'days_last_event', MAX(days_last_event)\n",
    "                    ),\n",
    "                    'STRING'\n",
    "                 ) = '0' THEN 'NOT AT RISK'\n",
    "             ELSE 'AT RISK'\n",
    "           END\n",
    "    FROM {catalog}.{db}.churn_user_features\n",
    "    WHERE user_id = id GROUP BY user_id\n",
    ")\"\"\")"
   ]
  },
  {
   "cell_type": "markdown",
   "metadata": {
    "application/vnd.databricks.v1+cell": {
     "cellMetadata": {},
     "inputWidgets": {},
     "nuid": "84f04fad-1be1-471b-bad0-d40ea2726169",
     "showTitle": false,
     "tableResultSettingsMap": {},
     "title": ""
    }
   },
   "source": [
    "### Example:"
   ]
  },
  {
   "cell_type": "code",
   "execution_count": 0,
   "metadata": {
    "application/vnd.databricks.v1+cell": {
     "cellMetadata": {
      "byteLimit": 2048000,
      "implicitDf": true,
      "rowLimit": 10000
     },
     "inputWidgets": {},
     "nuid": "cb666545-2664-4d3d-8b1a-9f537235b6e9",
     "showTitle": false,
     "tableResultSettingsMap": {},
     "title": ""
    }
   },
   "outputs": [],
   "source": [
    "%sql\n",
    "SELECT churn_predictor(\n",
    "    '2d17d7cd-38ae-440d-8485-34ce4f8f3b46'\n",
    ") AS prediction\n"
   ]
  },
  {
   "cell_type": "markdown",
   "metadata": {
    "application/vnd.databricks.v1+cell": {
     "cellMetadata": {},
     "inputWidgets": {},
     "nuid": "27144e99-4bd8-4f82-bcd4-eb7c9a0c0531",
     "showTitle": false,
     "tableResultSettingsMap": {},
     "title": ""
    }
   },
   "source": [
    "##Function 2: Customer Order & Demographic Lookup"
   ]
  },
  {
   "cell_type": "code",
   "execution_count": 0,
   "metadata": {
    "application/vnd.databricks.v1+cell": {
     "cellMetadata": {
      "byteLimit": 2048000,
      "rowLimit": 10000
     },
     "inputWidgets": {},
     "nuid": "03864925-3a43-4adc-bca7-b3eb993989df",
     "showTitle": false,
     "tableResultSettingsMap": {},
     "title": ""
    }
   },
   "outputs": [],
   "source": [
    "spark.sql(f\"\"\"\n",
    "  CREATE OR REPLACE FUNCTION customer_order_lookup (\n",
    "    input_user_id STRING\n",
    "    COMMENT 'User ID of the customer to be searched'\n",
    "  ) \n",
    "  RETURNS TABLE(\n",
    "    firstname STRING,\n",
    "    channel STRING,\n",
    "    country STRING,\n",
    "    gender INT,\n",
    "    order_amount INT,\n",
    "    order_item_count INT,\n",
    "    last_order_date STRING,\n",
    "    current_date STRING,\n",
    "    days_elapsed_since_last_order INT\n",
    "  )\n",
    "  COMMENT \"This function returns the customer details for a given customer User ID, along with their last order details. The return fields include First Name, Channel (e.g. Mobile App, Phone, or Web App/Browser ), Country of Residence, Gender, Order Amount, Item Count, and the Last Order Date (in format of yyyy-MM-dd). Use this function when a User ID is given.\" \n",
    "  RETURN (\n",
    "    SELECT\n",
    "      firstname,\n",
    "      canal as channel,\n",
    "      country,\n",
    "      gender,\n",
    "      o.order_amount,\n",
    "      o.order_item_count,\n",
    "      o.last_order_date,\n",
    "      TO_CHAR(CURRENT_DATE(), 'yyyy-MM-dd') AS current_date,\n",
    "      DATEDIFF(CURRENT_DATE(), o.last_order_date) AS days_elapsed_since_last_order\n",
    "    FROM \n",
    "      {catalog}.{db}.churn_users u\n",
    "    LEFT JOIN (\n",
    "      SELECT\n",
    "        user_id,\n",
    "        amount AS order_amount,\n",
    "        item_count AS order_item_count,\n",
    "        TO_CHAR(creation_date, 'yyyy-MM-dd') AS last_order_date\n",
    "      FROM {catalog}.{db}.churn_orders\n",
    "      WHERE user_id = input_user_id\n",
    "      ORDER BY creation_date DESC\n",
    "      LIMIT 1\n",
    "    ) o ON u.user_id = o.user_id\n",
    "    WHERE\n",
    "      u.user_id = input_user_id\n",
    "  )\n",
    "\"\"\")"
   ]
  },
  {
   "cell_type": "markdown",
   "metadata": {
    "application/vnd.databricks.v1+cell": {
     "cellMetadata": {},
     "inputWidgets": {},
     "nuid": "225714e6-7c21-48fd-ad75-3b332611efe7",
     "showTitle": false,
     "tableResultSettingsMap": {},
     "title": ""
    }
   },
   "source": [
    "### Example:"
   ]
  },
  {
   "cell_type": "code",
   "execution_count": 0,
   "metadata": {
    "application/vnd.databricks.v1+cell": {
     "cellMetadata": {
      "byteLimit": 2048000,
      "implicitDf": true,
      "rowLimit": 10000
     },
     "inputWidgets": {},
     "nuid": "401b4a4f-c8ea-48af-930c-e23ba3bacb2f",
     "showTitle": false,
     "tableResultSettingsMap": {},
     "title": ""
    }
   },
   "outputs": [],
   "source": [
    "%sql\n",
    "SELECT * FROM customer_order_lookup('2d17d7cd-38ae-440d-8485-34ce4f8f3b46')"
   ]
  },
  {
   "cell_type": "markdown",
   "metadata": {
    "application/vnd.databricks.v1+cell": {
     "cellMetadata": {},
     "inputWidgets": {},
     "nuid": "ccdcdd22-c3b4-46a7-81ef-e887990fea26",
     "showTitle": false,
     "tableResultSettingsMap": {},
     "title": ""
    }
   },
   "source": [
    "##Function 3: Personalized Customer Outreach with Automated Marketing Copy Generation"
   ]
  },
  {
   "cell_type": "markdown",
   "metadata": {
    "application/vnd.databricks.v1+cell": {
     "cellMetadata": {},
     "inputWidgets": {},
     "nuid": "44d943db-21a9-4c7b-9b6a-fbe1e1781dd1",
     "showTitle": false,
     "tableResultSettingsMap": {},
     "title": ""
    }
   },
   "source": [
    "### Define the model prompt"
   ]
  },
  {
   "cell_type": "code",
   "execution_count": 0,
   "metadata": {
    "application/vnd.databricks.v1+cell": {
     "cellMetadata": {
      "byteLimit": 2048000,
      "rowLimit": 10000
     },
     "inputWidgets": {},
     "nuid": "7f17cc6a-7364-4b75-bb50-550dabfc3562",
     "showTitle": false,
     "tableResultSettingsMap": {},
     "title": ""
    }
   },
   "outputs": [],
   "source": [
    "prompt = \"\"\"\n",
    "    Your only role is to write copy for a contemporary apparel retailer. All your responses are a piece of copy, nothing further.\\n\n",
    "    You have access to the following information from the customer and their last order:\\n\n",
    "    - firstname: the first name of the customer\n",
    "    - channel: the channel of which the customer is using. This could be WEBAPP for Web app or MOBILE for Mobile app\n",
    "    - country: the customer's country of residence. This field uses string country code, for example FR for France\n",
    "    - gender: the customer's gender. This field uses 0 for Male and 1 for Female\n",
    "    - order_amount: the total amount in US dollars of the last order\n",
    "    - order_item_count: the total item of the last order\n",
    "    - last_order_date: the date of the last order in format of yyyy-MM-dd\n",
    "    - current_date: the current date in format of yyyy-MM-dd\n",
    "    - days_elapsed_since_last_order: the number of days elapsed since the last order\n",
    "    - churn: either the customer is AT RISK or NOT AT RISK at churning\n",
    "    These are the rules you must respect when writing copy:\n",
    "    - Start every message by greeting the customer using their first_name. Do not include a final greeting.\\n\n",
    "    - When the customer's country of residence is not an English-spoken country, include a second message in their native language based on their country of residence. For example, if the country is FR, write two messages: one in English, and another in French. Never explicitly mention their country of residence.\\n\n",
    "    - Write short copy (SMS or push notification style) when channel is PHONE and MOBILE, and long copy (email style) for canal WEBAPP. Never explicitly mention the channel.\n",
    "    - Never mention a customers gender.\\n\n",
    "    - Consider the total amount of their last order when pushing for discount. For example, if the total amount is less than $100, push for discount. If the total amount is greater than $100, push for a free shipping offer.\\n\n",
    "    - Consider the total number of items in their last order when pushing for package deal. For example, if the total number of items is less than 5, push for package deal. If the total number of items is greater than 5, push for a free shipping offer.\\n\n",
    "    - Consider the days elapsed since the last purchased date when writing copy. For example, if the time elapsed is less than 30 days, push for discount. If the time elapsed is greater than 30 days, push for a free shipping offer.\\n\n",
    "    - Consider the current date when writing copy to take into account the seasonality of the country. For example, if the current season is Summer in the customer's country, promote for some products in summer and vice versa.\\n\n",
    "    - If the customer is at risk at churning, add urgency to the copy. Never explicitly mention the customer's churn status.\\n\n",
    "    - Make sure the input parameters match the order of the function.\n",
    "    \"\"\""
   ]
  },
  {
   "cell_type": "markdown",
   "metadata": {
    "application/vnd.databricks.v1+cell": {
     "cellMetadata": {},
     "inputWidgets": {},
     "nuid": "440992ee-a259-440d-b038-ec177905f3a4",
     "showTitle": false,
     "tableResultSettingsMap": {},
     "title": ""
    }
   },
   "source": [
    "### Function definition"
   ]
  },
  {
   "cell_type": "code",
   "execution_count": 0,
   "metadata": {
    "application/vnd.databricks.v1+cell": {
     "cellMetadata": {
      "byteLimit": 2048000,
      "implicitDf": true,
      "rowLimit": 10000
     },
     "inputWidgets": {},
     "nuid": "30ce408d-f505-4302-bd70-49c4893aab07",
     "showTitle": false,
     "tableResultSettingsMap": {},
     "title": ""
    }
   },
   "outputs": [],
   "source": [
    "spark.sql(f\"\"\"\n",
    "  CREATE OR REPLACE FUNCTION generate_marketing_copy(input_user_id STRING, firstname STRING, channel STRING, country STRING, gender INT, order_amount INT, order_item_count INT, last_order_date STRING, current_date STRING, days_elapsed_since_last_order INT, churn_status STRING)\n",
    "  RETURNS STRING\n",
    "  LANGUAGE SQL\n",
    "  COMMENT \"This function generates marketing copy for a given customer User ID. This function expects the user order information which can be found with _____, as well as their churn status which is found with ______. This function returns the marketing copy as a string. \"\n",
    "  RETURN (\n",
    "    SELECT ai_query(\n",
    "      'databricks-meta-llama-3-1-405b-instruct', \n",
    "      CONCAT(\n",
    "        \"{prompt}\" \n",
    "        'Customer details: ', \n",
    "        TO_JSON(NAMED_STRUCT('firstname', firstname, 'channel', channel, 'country', country, 'gender', gender, 'order_amount', order_amount, 'order_item_count', order_item_count, 'last_order_date', last_order_date, 'current_date', current_date, 'days_elapsed_since_last_order', days_elapsed_since_last_order, 'churn_status', churn_status))\n",
    "      )\n",
    "    )\n",
    "  )\n",
    "  \"\"\")"
   ]
  },
  {
   "cell_type": "markdown",
   "metadata": {
    "application/vnd.databricks.v1+cell": {
     "cellMetadata": {},
     "inputWidgets": {},
     "nuid": "e73c4703-ad13-4465-9c4b-875e259af08b",
     "showTitle": false,
     "tableResultSettingsMap": {},
     "title": ""
    }
   },
   "source": [
    "### Example:"
   ]
  },
  {
   "cell_type": "code",
   "execution_count": 0,
   "metadata": {
    "application/vnd.databricks.v1+cell": {
     "cellMetadata": {
      "byteLimit": 2048000,
      "implicitDf": true,
      "rowLimit": 10000
     },
     "inputWidgets": {},
     "nuid": "1eaeec5a-fb58-4772-b6b9-d894d6ddc9b1",
     "showTitle": false,
     "tableResultSettingsMap": {},
     "title": ""
    }
   },
   "outputs": [],
   "source": [
    "%sql\n",
    "SELECT generate_marketing_copy(\n",
    "  '2d17d7cd-38ae-440d-8485-34ce4f8f3b46',\n",
    "  'Christopher',\n",
    "  'WEBAPP',\n",
    "  'USA',\n",
    "  0,\n",
    "  105,\n",
    "  3,\n",
    "  '2023-06-07',\n",
    "  '2025-03-05',\n",
    "  637,\n",
    "  churn_predictor('2d17d7cd-38ae-440d-8485-34ce4f8f3b46')\n",
    ")"
   ]
  },
  {
   "cell_type": "markdown",
   "metadata": {
    "application/vnd.databricks.v1+cell": {
     "cellMetadata": {},
     "inputWidgets": {},
     "nuid": "d7cfa9db-89c5-4518-9836-c02c77135218",
     "showTitle": false,
     "tableResultSettingsMap": {},
     "title": ""
    }
   },
   "source": [
    "## Next Steps\n",
    "\n",
    "Proceed to notebook **05.2-Agent-Creation-Guide** in order to package the above functions into an implementable AI Agent with Databricks!"
   ]
  }
 ],
 "metadata": {
  "application/vnd.databricks.v1+notebook": {
   "computePreferences": null,
   "dashboards": [],
   "environmentMetadata": {
    "base_environment": "",
    "environment_version": "2"
   },
   "language": "python",
   "notebookMetadata": {
    "mostRecentlyExecutedCommandWithImplicitDF": {
     "commandId": 2896476171235749,
     "dataframes": [
      "_sqldf"
     ]
    },
    "pythonIndentUnit": 2
   },
   "notebookName": "05.1-Agent-Functions-Creation",
   "widgets": {}
  },
  "language_info": {
   "name": "python"
  }
 },
 "nbformat": 4,
 "nbformat_minor": 0
}
